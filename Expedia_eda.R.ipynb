{
 "cells": [
  {
   "cell_type": "markdown",
   "metadata": {},
   "source": [
    "EDA for the Expedia competition."
   ]
  },
  {
   "cell_type": "code",
   "execution_count": 33,
   "metadata": {
    "collapsed": false
   },
   "outputs": [
    {
     "name": "stdout",
     "output_type": "stream",
     "text": [
      "\r",
      "Read 34.8% of 2528243 rows\r",
      "Read 64.9% of 2528243 rows\r",
      "Read 2528243 rows and 22 (of 22) columns from 0.258 GB file in 00:00:04\n"
     ]
    }
   ],
   "source": [
    "library(data.table)\n",
    "library(dplyr)\n",
    "\n",
    "n = 1e6\n",
    "\n",
    "train <- fread(\"/Users/alexpapiu/Downloads/train.csv\", nrow = n)\n",
    "test <- fread(\"/Users/alexpapiu/Downloads/test.csv\")"
   ]
  },
  {
   "cell_type": "markdown",
   "metadata": {},
   "source": [
    "Let's make a validation set:"
   ]
  },
  {
   "cell_type": "code",
   "execution_count": 34,
   "metadata": {
    "collapsed": true
   },
   "outputs": [],
   "source": [
    "set.seed(3124)\n",
    "sam = sample(n, n/5)"
   ]
  },
  {
   "cell_type": "code",
   "execution_count": 35,
   "metadata": {
    "collapsed": false
   },
   "outputs": [],
   "source": [
    "val = train[sam]\n",
    "train = train[-sam]"
   ]
  },
  {
   "cell_type": "code",
   "execution_count": 36,
   "metadata": {
    "collapsed": false
   },
   "outputs": [
    {
     "data": {
      "text/html": [
       "<ol class=list-inline>\n",
       "\t<li>800000</li>\n",
       "\t<li>24</li>\n",
       "</ol>\n"
      ],
      "text/latex": [
       "\\begin{enumerate*}\n",
       "\\item 800000\n",
       "\\item 24\n",
       "\\end{enumerate*}\n"
      ],
      "text/markdown": [
       "1. 800000\n",
       "2. 24\n",
       "\n",
       "\n"
      ],
      "text/plain": [
       "[1] 800000     24"
      ]
     },
     "execution_count": 36,
     "metadata": {},
     "output_type": "execute_result"
    }
   ],
   "source": [
    "dim(train)"
   ]
  },
  {
   "cell_type": "code",
   "execution_count": 37,
   "metadata": {
    "collapsed": false
   },
   "outputs": [
    {
     "name": "stdout",
     "output_type": "stream",
     "text": [
      "Observations: 800,000\n",
      "Variables: 24\n",
      "$ date_time                 (chr) \"2014-08-11 07:46:59\", \"2014-08-11 08:22:...\n",
      "$ site_name                 (int) 2, 2, 2, 2, 2, 2, 2, 2, 2, 2, 2, 2, 2, 2,...\n",
      "$ posa_continent            (int) 3, 3, 3, 3, 3, 3, 3, 3, 3, 3, 3, 3, 3, 3,...\n",
      "$ user_location_country     (int) 66, 66, 66, 66, 66, 66, 66, 66, 66, 66, 6...\n",
      "$ user_location_region      (int) 348, 348, 348, 442, 442, 442, 189, 189, 3...\n",
      "$ user_location_city        (int) 48862, 48862, 48862, 35390, 35390, 35390,...\n",
      "$ orig_destination_distance (dbl) 2234.2641, 2234.2641, 2234.2641, 913.1932...\n",
      "$ user_id                   (int) 12, 12, 12, 93, 93, 93, 501, 501, 756, 75...\n",
      "$ is_mobile                 (int) 0, 0, 0, 0, 0, 0, 0, 0, 0, 0, 0, 0, 0, 0,...\n",
      "$ is_package                (int) 1, 1, 0, 0, 0, 0, 0, 0, 1, 1, 1, 1, 1, 1,...\n",
      "$ channel                   (int) 9, 9, 9, 3, 3, 3, 2, 2, 9, 9, 2, 4, 4, 2,...\n",
      "$ srch_ci                   (chr) \"2014-08-27\", \"2014-08-29\", \"2014-08-29\",...\n",
      "$ srch_co                   (chr) \"2014-08-31\", \"2014-09-02\", \"2014-09-02\",...\n",
      "$ srch_adults_cnt           (int) 2, 2, 2, 2, 2, 2, 2, 2, 2, 2, 2, 2, 2, 1,...\n",
      "$ srch_children_cnt         (int) 0, 0, 0, 0, 0, 0, 0, 0, 0, 0, 0, 0, 0, 0,...\n",
      "$ srch_rm_cnt               (int) 1, 1, 1, 1, 1, 1, 1, 1, 1, 1, 1, 1, 1, 1,...\n",
      "$ srch_destination_id       (int) 8250, 8250, 8250, 14984, 14984, 14984, 82...\n",
      "$ srch_destination_type_id  (int) 1, 1, 1, 1, 1, 1, 1, 1, 1, 1, 1, 1, 1, 6,...\n",
      "$ is_booking                (int) 0, 1, 0, 0, 0, 0, 0, 0, 0, 0, 0, 0, 1, 0,...\n",
      "$ cnt                       (int) 3, 1, 1, 1, 1, 1, 1, 1, 5, 1, 1, 1, 1, 2,...\n",
      "$ hotel_continent           (int) 2, 2, 2, 2, 2, 2, 2, 2, 2, 2, 2, 2, 2, 2,...\n",
      "$ hotel_country             (int) 50, 50, 50, 50, 50, 50, 50, 50, 50, 50, 5...\n",
      "$ hotel_market              (int) 628, 628, 628, 1457, 1457, 1457, 675, 675...\n",
      "$ hotel_cluster             (int) 1, 1, 1, 80, 21, 92, 70, 98, 18, 28, 25, ...\n"
     ]
    }
   ],
   "source": [
    "glimpse(train)"
   ]
  },
  {
   "cell_type": "markdown",
   "metadata": {},
   "source": [
    "But really most of these are factors except for the destination distance."
   ]
  },
  {
   "cell_type": "code",
   "execution_count": 38,
   "metadata": {
    "collapsed": false
   },
   "outputs": [
    {
     "data": {
      "text/html": [
       "<dl class=dl-horizontal>\n",
       "\t<dt>date_time</dt>\n",
       "\t\t<dd>0</dd>\n",
       "\t<dt>site_name</dt>\n",
       "\t\t<dd>0</dd>\n",
       "\t<dt>posa_continent</dt>\n",
       "\t\t<dd>0</dd>\n",
       "\t<dt>user_location_country</dt>\n",
       "\t\t<dd>0</dd>\n",
       "\t<dt>user_location_region</dt>\n",
       "\t\t<dd>0</dd>\n",
       "\t<dt>user_location_city</dt>\n",
       "\t\t<dd>0</dd>\n",
       "\t<dt>orig_destination_distance</dt>\n",
       "\t\t<dd>296001</dd>\n",
       "\t<dt>user_id</dt>\n",
       "\t\t<dd>0</dd>\n",
       "\t<dt>is_mobile</dt>\n",
       "\t\t<dd>0</dd>\n",
       "\t<dt>is_package</dt>\n",
       "\t\t<dd>0</dd>\n",
       "\t<dt>channel</dt>\n",
       "\t\t<dd>0</dd>\n",
       "\t<dt>srch_ci</dt>\n",
       "\t\t<dd>0</dd>\n",
       "\t<dt>srch_co</dt>\n",
       "\t\t<dd>0</dd>\n",
       "\t<dt>srch_adults_cnt</dt>\n",
       "\t\t<dd>0</dd>\n",
       "\t<dt>srch_children_cnt</dt>\n",
       "\t\t<dd>0</dd>\n",
       "\t<dt>srch_rm_cnt</dt>\n",
       "\t\t<dd>0</dd>\n",
       "\t<dt>srch_destination_id</dt>\n",
       "\t\t<dd>0</dd>\n",
       "\t<dt>srch_destination_type_id</dt>\n",
       "\t\t<dd>0</dd>\n",
       "\t<dt>is_booking</dt>\n",
       "\t\t<dd>0</dd>\n",
       "\t<dt>cnt</dt>\n",
       "\t\t<dd>0</dd>\n",
       "\t<dt>hotel_continent</dt>\n",
       "\t\t<dd>0</dd>\n",
       "\t<dt>hotel_country</dt>\n",
       "\t\t<dd>0</dd>\n",
       "\t<dt>hotel_market</dt>\n",
       "\t\t<dd>0</dd>\n",
       "\t<dt>hotel_cluster</dt>\n",
       "\t\t<dd>0</dd>\n",
       "</dl>\n"
      ],
      "text/latex": [
       "\\begin{description*}\n",
       "\\item[date_time] 0\n",
       "\\item[site_name] 0\n",
       "\\item[posa_continent] 0\n",
       "\\item[user_location_country] 0\n",
       "\\item[user_location_region] 0\n",
       "\\item[user_location_city] 0\n",
       "\\item[orig_destination_distance] 296001\n",
       "\\item[user_id] 0\n",
       "\\item[is_mobile] 0\n",
       "\\item[is_package] 0\n",
       "\\item[channel] 0\n",
       "\\item[srch_ci] 0\n",
       "\\item[srch_co] 0\n",
       "\\item[srch_adults_cnt] 0\n",
       "\\item[srch_children_cnt] 0\n",
       "\\item[srch_rm_cnt] 0\n",
       "\\item[srch_destination_id] 0\n",
       "\\item[srch_destination_type_id] 0\n",
       "\\item[is_booking] 0\n",
       "\\item[cnt] 0\n",
       "\\item[hotel_continent] 0\n",
       "\\item[hotel_country] 0\n",
       "\\item[hotel_market] 0\n",
       "\\item[hotel_cluster] 0\n",
       "\\end{description*}\n"
      ],
      "text/markdown": [
       "date_time\n",
       ":   0site_name\n",
       ":   0posa_continent\n",
       ":   0user_location_country\n",
       ":   0user_location_region\n",
       ":   0user_location_city\n",
       ":   0orig_destination_distance\n",
       ":   296001user_id\n",
       ":   0is_mobile\n",
       ":   0is_package\n",
       ":   0channel\n",
       ":   0srch_ci\n",
       ":   0srch_co\n",
       ":   0srch_adults_cnt\n",
       ":   0srch_children_cnt\n",
       ":   0srch_rm_cnt\n",
       ":   0srch_destination_id\n",
       ":   0srch_destination_type_id\n",
       ":   0is_booking\n",
       ":   0cnt\n",
       ":   0hotel_continent\n",
       ":   0hotel_country\n",
       ":   0hotel_market\n",
       ":   0hotel_cluster\n",
       ":   0\n",
       "\n"
      ],
      "text/plain": [
       "                date_time                 site_name            posa_continent \n",
       "                        0                         0                         0 \n",
       "    user_location_country      user_location_region        user_location_city \n",
       "                        0                         0                         0 \n",
       "orig_destination_distance                   user_id                 is_mobile \n",
       "                   296001                         0                         0 \n",
       "               is_package                   channel                   srch_ci \n",
       "                        0                         0                         0 \n",
       "                  srch_co           srch_adults_cnt         srch_children_cnt \n",
       "                        0                         0                         0 \n",
       "              srch_rm_cnt       srch_destination_id  srch_destination_type_id \n",
       "                        0                         0                         0 \n",
       "               is_booking                       cnt           hotel_continent \n",
       "                        0                         0                         0 \n",
       "            hotel_country              hotel_market             hotel_cluster \n",
       "                        0                         0                         0 "
      ]
     },
     "execution_count": 38,
     "metadata": {},
     "output_type": "execute_result"
    }
   ],
   "source": [
    "sapply(train, function(x) sum(is.na(x)))"
   ]
  },
  {
   "cell_type": "markdown",
   "metadata": {},
   "source": [
    "Ok so only destination distance has NA's.\n",
    "How many unique values?"
   ]
  },
  {
   "cell_type": "code",
   "execution_count": 39,
   "metadata": {
    "collapsed": false
   },
   "outputs": [
    {
     "data": {
      "text/html": [
       "<dl class=dl-horizontal>\n",
       "\t<dt>is_mobile</dt>\n",
       "\t\t<dd>2</dd>\n",
       "\t<dt>is_package</dt>\n",
       "\t\t<dd>2</dd>\n",
       "\t<dt>is_booking</dt>\n",
       "\t\t<dd>2</dd>\n",
       "\t<dt>posa_continent</dt>\n",
       "\t\t<dd>5</dd>\n",
       "\t<dt>hotel_continent</dt>\n",
       "\t\t<dd>7</dd>\n",
       "\t<dt>srch_destination_type_id</dt>\n",
       "\t\t<dd>8</dd>\n",
       "\t<dt>srch_rm_cnt</dt>\n",
       "\t\t<dd>9</dd>\n",
       "\t<dt>srch_adults_cnt</dt>\n",
       "\t\t<dd>10</dd>\n",
       "\t<dt>srch_children_cnt</dt>\n",
       "\t\t<dd>10</dd>\n",
       "\t<dt>channel</dt>\n",
       "\t\t<dd>11</dd>\n",
       "\t<dt>site_name</dt>\n",
       "\t\t<dd>42</dd>\n",
       "\t<dt>cnt</dt>\n",
       "\t\t<dd>49</dd>\n",
       "\t<dt>hotel_cluster</dt>\n",
       "\t\t<dd>100</dd>\n",
       "\t<dt>user_location_country</dt>\n",
       "\t\t<dd>183</dd>\n",
       "\t<dt>hotel_country</dt>\n",
       "\t\t<dd>202</dd>\n",
       "\t<dt>user_location_region</dt>\n",
       "\t\t<dd>768</dd>\n",
       "\t<dt>srch_co</dt>\n",
       "\t\t<dd>1106</dd>\n",
       "\t<dt>srch_ci</dt>\n",
       "\t\t<dd>1107</dd>\n",
       "\t<dt>hotel_market</dt>\n",
       "\t\t<dd>2043</dd>\n",
       "\t<dt>user_location_city</dt>\n",
       "\t\t<dd>12622</dd>\n",
       "\t<dt>srch_destination_id</dt>\n",
       "\t\t<dd>16225</dd>\n",
       "\t<dt>user_id</dt>\n",
       "\t\t<dd>32720</dd>\n",
       "\t<dt>orig_destination_distance</dt>\n",
       "\t\t<dd>341300</dd>\n",
       "\t<dt>date_time</dt>\n",
       "\t\t<dd>791826</dd>\n",
       "</dl>\n"
      ],
      "text/latex": [
       "\\begin{description*}\n",
       "\\item[is_mobile] 2\n",
       "\\item[is_package] 2\n",
       "\\item[is_booking] 2\n",
       "\\item[posa_continent] 5\n",
       "\\item[hotel_continent] 7\n",
       "\\item[srch_destination_type_id] 8\n",
       "\\item[srch_rm_cnt] 9\n",
       "\\item[srch_adults_cnt] 10\n",
       "\\item[srch_children_cnt] 10\n",
       "\\item[channel] 11\n",
       "\\item[site_name] 42\n",
       "\\item[cnt] 49\n",
       "\\item[hotel_cluster] 100\n",
       "\\item[user_location_country] 183\n",
       "\\item[hotel_country] 202\n",
       "\\item[user_location_region] 768\n",
       "\\item[srch_co] 1106\n",
       "\\item[srch_ci] 1107\n",
       "\\item[hotel_market] 2043\n",
       "\\item[user_location_city] 12622\n",
       "\\item[srch_destination_id] 16225\n",
       "\\item[user_id] 32720\n",
       "\\item[orig_destination_distance] 341300\n",
       "\\item[date_time] 791826\n",
       "\\end{description*}\n"
      ],
      "text/markdown": [
       "is_mobile\n",
       ":   2is_package\n",
       ":   2is_booking\n",
       ":   2posa_continent\n",
       ":   5hotel_continent\n",
       ":   7srch_destination_type_id\n",
       ":   8srch_rm_cnt\n",
       ":   9srch_adults_cnt\n",
       ":   10srch_children_cnt\n",
       ":   10channel\n",
       ":   11site_name\n",
       ":   42cnt\n",
       ":   49hotel_cluster\n",
       ":   100user_location_country\n",
       ":   183hotel_country\n",
       ":   202user_location_region\n",
       ":   768srch_co\n",
       ":   1106srch_ci\n",
       ":   1107hotel_market\n",
       ":   2043user_location_city\n",
       ":   12622srch_destination_id\n",
       ":   16225user_id\n",
       ":   32720orig_destination_distance\n",
       ":   341300date_time\n",
       ":   791826\n",
       "\n"
      ],
      "text/plain": [
       "                is_mobile                is_package                is_booking \n",
       "                        2                         2                         2 \n",
       "           posa_continent           hotel_continent  srch_destination_type_id \n",
       "                        5                         7                         8 \n",
       "              srch_rm_cnt           srch_adults_cnt         srch_children_cnt \n",
       "                        9                        10                        10 \n",
       "                  channel                 site_name                       cnt \n",
       "                       11                        42                        49 \n",
       "            hotel_cluster     user_location_country             hotel_country \n",
       "                      100                       183                       202 \n",
       "     user_location_region                   srch_co                   srch_ci \n",
       "                      768                      1106                      1107 \n",
       "             hotel_market        user_location_city       srch_destination_id \n",
       "                     2043                     12622                     16225 \n",
       "                  user_id orig_destination_distance                 date_time \n",
       "                    32720                    341300                    791826 "
      ]
     },
     "execution_count": 39,
     "metadata": {},
     "output_type": "execute_result"
    }
   ],
   "source": [
    "sapply(train, function(x) length(unique(x))) %>% sort()"
   ]
  },
  {
   "cell_type": "markdown",
   "metadata": {},
   "source": [
    "The issue is there are a lot of factor levels here."
   ]
  },
  {
   "cell_type": "code",
   "execution_count": 40,
   "metadata": {
    "collapsed": true
   },
   "outputs": [],
   "source": [
    "save.image(\"expedia.RData\")"
   ]
  },
  {
   "cell_type": "code",
   "execution_count": 41,
   "metadata": {
    "collapsed": false
   },
   "outputs": [
    {
     "data": {
      "text/html": [
       "<ol class=list-inline>\n",
       "\t<li>'b'</li>\n",
       "\t<li>'bias'</li>\n",
       "\t<li>'count'</li>\n",
       "\t<li>'difference'</li>\n",
       "\t<li>'dim'</li>\n",
       "\t<li>'dot'</li>\n",
       "\t<li>'eout'</li>\n",
       "\t<li>'f'</li>\n",
       "\t<li>'guns_wiki'</li>\n",
       "\t<li>'i'</li>\n",
       "\t<li>'j'</li>\n",
       "\t<li>'means'</li>\n",
       "\t<li>'model'</li>\n",
       "\t<li>'n'</li>\n",
       "\t<li>'norm'</li>\n",
       "\t<li>'pervolume'</li>\n",
       "\t<li>'pi'</li>\n",
       "\t<li>'pies'</li>\n",
       "\t<li>'rand'</li>\n",
       "\t<li>'randgeo'</li>\n",
       "\t<li>'randx12'</li>\n",
       "\t<li>'realbias'</li>\n",
       "\t<li>'sam'</li>\n",
       "\t<li>'swim_wiki'</li>\n",
       "\t<li>'t'</li>\n",
       "\t<li>'tabs'</li>\n",
       "\t<li>'tabs1'</li>\n",
       "\t<li>'tabs2'</li>\n",
       "\t<li>'tabs3'</li>\n",
       "\t<li>'tabsnoDC'</li>\n",
       "\t<li>'temp'</li>\n",
       "\t<li>'test'</li>\n",
       "\t<li>'theurl'</li>\n",
       "\t<li>'train'</li>\n",
       "\t<li>'url'</li>\n",
       "\t<li>'val'</li>\n",
       "\t<li>'var'</li>\n",
       "\t<li>'vars'</li>\n",
       "\t<li>'volume'</li>\n",
       "\t<li>'x'</li>\n",
       "\t<li>'y'</li>\n",
       "</ol>\n"
      ],
      "text/latex": [
       "\\begin{enumerate*}\n",
       "\\item 'b'\n",
       "\\item 'bias'\n",
       "\\item 'count'\n",
       "\\item 'difference'\n",
       "\\item 'dim'\n",
       "\\item 'dot'\n",
       "\\item 'eout'\n",
       "\\item 'f'\n",
       "\\item 'guns_wiki'\n",
       "\\item 'i'\n",
       "\\item 'j'\n",
       "\\item 'means'\n",
       "\\item 'model'\n",
       "\\item 'n'\n",
       "\\item 'norm'\n",
       "\\item 'pervolume'\n",
       "\\item 'pi'\n",
       "\\item 'pies'\n",
       "\\item 'rand'\n",
       "\\item 'randgeo'\n",
       "\\item 'randx12'\n",
       "\\item 'realbias'\n",
       "\\item 'sam'\n",
       "\\item 'swim_wiki'\n",
       "\\item 't'\n",
       "\\item 'tabs'\n",
       "\\item 'tabs1'\n",
       "\\item 'tabs2'\n",
       "\\item 'tabs3'\n",
       "\\item 'tabsnoDC'\n",
       "\\item 'temp'\n",
       "\\item 'test'\n",
       "\\item 'theurl'\n",
       "\\item 'train'\n",
       "\\item 'url'\n",
       "\\item 'val'\n",
       "\\item 'var'\n",
       "\\item 'vars'\n",
       "\\item 'volume'\n",
       "\\item 'x'\n",
       "\\item 'y'\n",
       "\\end{enumerate*}\n"
      ],
      "text/markdown": [
       "1. 'b'\n",
       "2. 'bias'\n",
       "3. 'count'\n",
       "4. 'difference'\n",
       "5. 'dim'\n",
       "6. 'dot'\n",
       "7. 'eout'\n",
       "8. 'f'\n",
       "9. 'guns_wiki'\n",
       "10. 'i'\n",
       "11. 'j'\n",
       "12. 'means'\n",
       "13. 'model'\n",
       "14. 'n'\n",
       "15. 'norm'\n",
       "16. 'pervolume'\n",
       "17. 'pi'\n",
       "18. 'pies'\n",
       "19. 'rand'\n",
       "20. 'randgeo'\n",
       "21. 'randx12'\n",
       "22. 'realbias'\n",
       "23. 'sam'\n",
       "24. 'swim_wiki'\n",
       "25. 't'\n",
       "26. 'tabs'\n",
       "27. 'tabs1'\n",
       "28. 'tabs2'\n",
       "29. 'tabs3'\n",
       "30. 'tabsnoDC'\n",
       "31. 'temp'\n",
       "32. 'test'\n",
       "33. 'theurl'\n",
       "34. 'train'\n",
       "35. 'url'\n",
       "36. 'val'\n",
       "37. 'var'\n",
       "38. 'vars'\n",
       "39. 'volume'\n",
       "40. 'x'\n",
       "41. 'y'\n",
       "\n",
       "\n"
      ],
      "text/plain": [
       " [1] \"b\"          \"bias\"       \"count\"      \"difference\" \"dim\"       \n",
       " [6] \"dot\"        \"eout\"       \"f\"          \"guns_wiki\"  \"i\"         \n",
       "[11] \"j\"          \"means\"      \"model\"      \"n\"          \"norm\"      \n",
       "[16] \"pervolume\"  \"pi\"         \"pies\"       \"rand\"       \"randgeo\"   \n",
       "[21] \"randx12\"    \"realbias\"   \"sam\"        \"swim_wiki\"  \"t\"         \n",
       "[26] \"tabs\"       \"tabs1\"      \"tabs2\"      \"tabs3\"      \"tabsnoDC\"  \n",
       "[31] \"temp\"       \"test\"       \"theurl\"     \"train\"      \"url\"       \n",
       "[36] \"val\"        \"var\"        \"vars\"       \"volume\"     \"x\"         \n",
       "[41] \"y\"         "
      ]
     },
     "execution_count": 41,
     "metadata": {},
     "output_type": "execute_result"
    }
   ],
   "source": [
    "ls()"
   ]
  },
  {
   "cell_type": "code",
   "execution_count": null,
   "metadata": {
    "collapsed": true
   },
   "outputs": [],
   "source": []
  }
 ],
 "metadata": {
  "kernelspec": {
   "display_name": "R",
   "language": "R",
   "name": "ir"
  },
  "language_info": {
   "codemirror_mode": "r",
   "file_extension": ".r",
   "mimetype": "text/x-r-source",
   "name": "R",
   "pygments_lexer": "r",
   "version": "3.2.4"
  }
 },
 "nbformat": 4,
 "nbformat_minor": 0
}
