{
 "cells": [
  {
   "cell_type": "code",
   "execution_count": 3,
   "metadata": {
    "collapsed": false
   },
   "outputs": [
    {
     "name": "stderr",
     "output_type": "stream",
     "text": [
      "INFO: Cloning cache of ArrayViews from git://github.com/JuliaLang/ArrayViews.jl.git\n",
      "INFO: Cloning cache of DataArrays from git://github.com/JuliaStats/DataArrays.jl.git\n",
      "INFO: Cloning cache of DataFrames from git://github.com/JuliaStats/DataFrames.jl.git\n",
      "INFO: Cloning cache of Docile from git://github.com/MichaelHatherly/Docile.jl.git\n",
      "INFO: Cloning cache of GZip from git://github.com/JuliaLang/GZip.jl.git\n",
      "INFO: Cloning cache of RDatasets from git://github.com/johnmyleswhite/RDatasets.jl.git\n",
      "INFO: Cloning cache of Reexport from git://github.com/simonster/Reexport.jl.git\n",
      "INFO: Cloning cache of SortingAlgorithms from git://github.com/JuliaLang/SortingAlgorithms.jl.git\n",
      "INFO: Cloning cache of StatsBase from git://github.com/JuliaStats/StatsBase.jl.git\n",
      "INFO: Cloning cache of StatsFuns from git://github.com/JuliaStats/StatsFuns.jl.git\n",
      "INFO: Installing ArrayViews v0.6.4\n",
      "INFO: Installing DataArrays v0.3.0\n",
      "INFO: Installing DataFrames v0.7.1\n",
      "INFO: Installing Docile v0.5.23\n",
      "INFO: Installing GZip v0.2.18\n",
      "INFO: Installing RDatasets v0.1.3\n",
      "INFO: Installing Reexport v0.0.3\n",
      "INFO: Installing SortingAlgorithms v0.0.6\n",
      "INFO: Installing StatsBase v0.8.1\n",
      "INFO: Installing StatsFuns v0.2.1\n",
      "INFO: Package database updated\n"
     ]
    }
   ],
   "source": [
    "Pkg.add(\"RDatasets\")\n"
   ]
  },
  {
   "cell_type": "code",
   "execution_count": 4,
   "metadata": {
    "collapsed": false
   },
   "outputs": [
    {
     "name": "stderr",
     "output_type": "stream",
     "text": [
      "INFO: Precompiling module Reexport...\n",
      "INFO: Precompiling module DataFrames...\n"
     ]
    }
   ],
   "source": [
    "using RDatasets"
   ]
  },
  {
   "cell_type": "code",
   "execution_count": 7,
   "metadata": {
    "collapsed": false
   },
   "outputs": [
    {
     "name": "stderr",
     "output_type": "stream",
     "text": [
      "INFO: Cloning cache of Calculus from git://github.com/johnmyleswhite/Calculus.jl.git\n",
      "INFO: Cloning cache of Codecs from git://github.com/dcjones/Codecs.jl.git\n",
      "INFO: Cloning cache of ColorTypes from git://github.com/JuliaGraphics/ColorTypes.jl.git\n",
      "INFO: Cloning cache of Colors from git://github.com/JuliaGraphics/Colors.jl.git\n",
      "INFO: Cloning cache of Compose from git://github.com/dcjones/Compose.jl.git\n",
      "INFO: Cloning cache of Contour from git://github.com/tlycken/Contour.jl.git\n",
      "INFO: Cloning cache of DataStructures from git://github.com/JuliaLang/DataStructures.jl.git\n",
      "INFO: Cloning cache of Dates from git://github.com/quinnj/Dates.jl.git\n",
      "INFO: Cloning cache of Distances from git://github.com/JuliaStats/Distances.jl.git\n",
      "INFO: Cloning cache of Distributions from git://github.com/JuliaStats/Distributions.jl.git\n",
      "INFO: Cloning cache of DualNumbers from git://github.com/JuliaDiff/DualNumbers.jl.git\n",
      "INFO: Cloning cache of FixedPointNumbers from git://github.com/JeffBezanson/FixedPointNumbers.jl.git\n",
      "INFO: Cloning cache of FixedSizeArrays from git://github.com/SimonDanisch/FixedSizeArrays.jl.git\n",
      "INFO: Cloning cache of Gadfly from git://github.com/dcjones/Gadfly.jl.git\n",
      "INFO: Cloning cache of Grid from git://github.com/timholy/Grid.jl.git\n",
      "INFO: Cloning cache of Hexagons from git://github.com/dcjones/Hexagons.jl.git\n",
      "INFO: Cloning cache of Iterators from git://github.com/JuliaLang/Iterators.jl.git\n",
      "INFO: Cloning cache of KernelDensity from git://github.com/JuliaStats/KernelDensity.jl.git\n",
      "INFO: Cloning cache of Loess from git://github.com/dcjones/Loess.jl.git\n",
      "INFO: Cloning cache of Measures from git://github.com/dcjones/Measures.jl.git\n",
      "INFO: Cloning cache of NaNMath from git://github.com/mlubin/NaNMath.jl.git\n",
      "INFO: Cloning cache of Optim from git://github.com/JuliaOpt/Optim.jl.git\n",
      "INFO: Cloning cache of PDMats from git://github.com/JuliaStats/PDMats.jl.git\n",
      "INFO: Cloning cache of PositiveFactorizations from git://github.com/timholy/PositiveFactorizations.jl.git\n",
      "INFO: Cloning cache of Showoff from git://github.com/JuliaGraphics/Showoff.jl.git\n",
      "INFO: Cloning cache of WoodburyMatrices from git://github.com/timholy/WoodburyMatrices.jl.git\n",
      "INFO: Installing Calculus v0.1.14\n",
      "INFO: Installing Codecs v0.1.5\n",
      "INFO: Installing ColorTypes v0.2.2\n",
      "INFO: Installing Colors v0.6.4\n",
      "INFO: Installing Compose v0.4.2\n",
      "INFO: Installing Contour v0.1.0\n",
      "INFO: Installing DataStructures v0.4.4\n",
      "INFO: Installing Dates v0.4.4\n",
      "INFO: Installing Distances v0.3.1\n",
      "INFO: Installing Distributions v0.8.10\n",
      "INFO: Installing DualNumbers v0.2.2\n",
      "INFO: Installing FixedPointNumbers v0.1.3\n",
      "INFO: Installing FixedSizeArrays v0.1.1\n",
      "INFO: Installing Gadfly v0.4.2\n",
      "INFO: Installing Grid v0.4.0\n",
      "INFO: Installing Hexagons v0.0.4\n",
      "INFO: Installing Iterators v0.1.9\n",
      "INFO: Installing KernelDensity v0.1.2\n",
      "INFO: Installing Loess v0.0.6\n",
      "INFO: Installing Measures v0.0.2\n",
      "INFO: Installing NaNMath v0.2.1\n",
      "INFO: Installing Optim v0.4.5\n",
      "INFO: Installing PDMats v0.4.1\n",
      "INFO: Installing PositiveFactorizations v0.0.1\n",
      "INFO: Installing Showoff v0.0.7\n",
      "INFO: Installing WoodburyMatrices v0.1.5\n",
      "INFO: Package database updated\n",
      "INFO: Precompiling module Gadfly...\n"
     ]
    }
   ],
   "source": [
    "Pkg.add(\"Gadfly\")\n",
    "using Gadfly"
   ]
  },
  {
   "cell_type": "code",
   "execution_count": 12,
   "metadata": {
    "collapsed": false
   },
   "outputs": [
    {
     "data": {
      "text/plain": [
       "4"
      ]
     },
     "execution_count": 12,
     "metadata": {},
     "output_type": "execute_result"
    }
   ],
   "source": [
    "2+2"
   ]
  },
  {
   "cell_type": "code",
   "execution_count": 11,
   "metadata": {
    "collapsed": false
   },
   "outputs": [
    {
     "ename": "LoadError",
     "evalue": "LoadError: MethodError: `data` has no method matching data(::ASCIIString, ::ASCIIString)\nwhile loading In[11], in expression starting on line 1",
     "output_type": "error",
     "traceback": [
      "LoadError: MethodError: `data` has no method matching data(::ASCIIString, ::ASCIIString)\nwhile loading In[11], in expression starting on line 1",
      ""
     ]
    }
   ],
   "source": [
    "plot(data(\"datasets\", \"iris\"), x = \"Sepal Width\")"
   ]
  },
  {
   "cell_type": "code",
   "execution_count": null,
   "metadata": {
    "collapsed": true
   },
   "outputs": [],
   "source": []
  }
 ],
 "metadata": {
  "kernelspec": {
   "display_name": "Julia 0.4.5",
   "language": "julia",
   "name": "julia-0.4"
  },
  "language_info": {
   "file_extension": ".jl",
   "mimetype": "application/julia",
   "name": "julia",
   "version": "0.4.5"
  }
 },
 "nbformat": 4,
 "nbformat_minor": 0
}
