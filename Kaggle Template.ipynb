{
 "cells": [
  {
   "cell_type": "markdown",
   "metadata": {},
   "source": [
    "### A template for Kaggle Competitions/Datasets:\n",
    "    "
   ]
  },
  {
   "cell_type": "markdown",
   "metadata": {},
   "source": [
    "The data should be loaded into  `/Users/alexpapiu/Documents/Data/Competition_name`.\n",
    "\n",
    "Keep names as `train.csv` and `test.csv` or `data.csv` plus any additional informational datasets.\n",
    "\n",
    "Then I will create a subfolder in the R folder `/Users/alexpapiu/Documents/R/Competition_name` where I will have a `clean.R`, `EDA.R`, `model.R`. I will also create a Github repo with this folder.\n",
    "\n",
    "The `clean.R` should end with: `save.image(/Users/alexpapiu/Documents/Data/Competition_name/data.RData)` - this should contain a cleaned test and training set as well as the data in the `X, y, X_test` matrix format. The other R files in the repo should begin by loading the data : `load(/Users/alexpapiu/Documents/Data/Competition_name/data.RData)`"
   ]
  }
 ],
 "metadata": {
  "kernelspec": {
   "display_name": "R",
   "language": "R",
   "name": "ir"
  },
  "language_info": {
   "codemirror_mode": "r",
   "file_extension": ".r",
   "mimetype": "text/x-r-source",
   "name": "R",
   "pygments_lexer": "r",
   "version": "3.2.4"
  }
 },
 "nbformat": 4,
 "nbformat_minor": 0
}
