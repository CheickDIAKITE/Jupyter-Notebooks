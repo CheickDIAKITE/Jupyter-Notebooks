{
 "cells": [
  {
   "cell_type": "code",
   "execution_count": 17,
   "metadata": {
    "collapsed": true
   },
   "outputs": [],
   "source": [
    "library(xgboost)\n",
    "library(ranger)"
   ]
  },
  {
   "cell_type": "code",
   "execution_count": 2,
   "metadata": {
    "collapsed": false
   },
   "outputs": [
    {
     "data": {
      "text/html": [
       "\n",
       "<table width=\"100%\" summary=\"page for xgboost {xgboost}\"><tr><td>xgboost {xgboost}</td><td style=\"text-align: right;\">R Documentation</td></tr></table>\n",
       "\n",
       "<h2>eXtreme Gradient Boosting (Tree) library</h2>\n",
       "\n",
       "<h3>Description</h3>\n",
       "\n",
       "<p>A simple interface for training xgboost model. Look at <code>xgb.train</code> function for a more advanced interface.\n",
       "</p>\n",
       "\n",
       "\n",
       "<h3>Usage</h3>\n",
       "\n",
       "<pre>\n",
       "xgboost(data = NULL, label = NULL, missing = NA, weight = NULL,\n",
       "  params = list(), nrounds, verbose = 1, print.every.n = 1L,\n",
       "  early.stop.round = NULL, maximize = NULL, save_period = 0,\n",
       "  save_name = \"xgboost.model\", ...)\n",
       "</pre>\n",
       "\n",
       "\n",
       "<h3>Arguments</h3>\n",
       "\n",
       "<table summary=\"R argblock\">\n",
       "<tr valign=\"top\"><td><code>data</code></td>\n",
       "<td>\n",
       "<p>takes <code>matrix</code>, <code>dgCMatrix</code>, local data file or \n",
       "<code>xgb.DMatrix</code>.</p>\n",
       "</td></tr>\n",
       "<tr valign=\"top\"><td><code>label</code></td>\n",
       "<td>\n",
       "<p>the response variable. User should not set this field,\n",
       "if data is local data file or  <code>xgb.DMatrix</code>.</p>\n",
       "</td></tr>\n",
       "<tr valign=\"top\"><td><code>missing</code></td>\n",
       "<td>\n",
       "<p>Missing is only used when input is dense matrix, pick a float \n",
       "value that represents missing value. Sometimes a data use 0 or other extreme value to represents missing values.</p>\n",
       "</td></tr>\n",
       "<tr valign=\"top\"><td><code>weight</code></td>\n",
       "<td>\n",
       "<p>a vector indicating the weight for each row of the input.</p>\n",
       "</td></tr>\n",
       "<tr valign=\"top\"><td><code>params</code></td>\n",
       "<td>\n",
       "<p>the list of parameters.\n",
       "</p>\n",
       "<p>Commonly used ones are:\n",
       "</p>\n",
       "\n",
       "<ul>\n",
       "<li> <p><code>objective</code> objective function, common ones are\n",
       "</p>\n",
       "\n",
       "<ul>\n",
       "<li> <p><code>reg:linear</code> linear regression\n",
       "</p>\n",
       "</li>\n",
       "<li> <p><code>binary:logistic</code> logistic regression for classification\n",
       "</p>\n",
       "</li></ul>\n",
       "\n",
       "</li>\n",
       "<li> <p><code>eta</code> step size of each boosting step\n",
       "</p>\n",
       "</li>\n",
       "<li> <p><code>max.depth</code> maximum depth of the tree\n",
       "</p>\n",
       "</li>\n",
       "<li> <p><code>nthread</code> number of thread used in training, if not set, all threads are used\n",
       "</p>\n",
       "</li></ul>\n",
       "\n",
       "<p>Look at <code>xgb.train</code> for a more complete list of parameters or <a href=\"https://github.com/dmlc/xgboost/wiki/Parameters\">https://github.com/dmlc/xgboost/wiki/Parameters</a> for the full list.\n",
       "</p>\n",
       "<p>See also <code>demo/</code> for walkthrough example in R.</p>\n",
       "</td></tr>\n",
       "<tr valign=\"top\"><td><code>nrounds</code></td>\n",
       "<td>\n",
       "<p>the max number of iterations</p>\n",
       "</td></tr>\n",
       "<tr valign=\"top\"><td><code>verbose</code></td>\n",
       "<td>\n",
       "<p>If 0, xgboost will stay silent. If 1, xgboost will print \n",
       "information of performance. If 2, xgboost will print information of both\n",
       "performance and construction progress information</p>\n",
       "</td></tr>\n",
       "<tr valign=\"top\"><td><code>print.every.n</code></td>\n",
       "<td>\n",
       "<p>Print every N progress messages when <code>verbose&gt;0</code>. Default is 1 which means all messages are printed.</p>\n",
       "</td></tr>\n",
       "<tr valign=\"top\"><td><code>early.stop.round</code></td>\n",
       "<td>\n",
       "<p>If <code>NULL</code>, the early stopping function is not triggered. \n",
       "If set to an integer <code>k</code>, training with a validation set will stop if the performance \n",
       "keeps getting worse consecutively for <code>k</code> rounds.</p>\n",
       "</td></tr>\n",
       "<tr valign=\"top\"><td><code>maximize</code></td>\n",
       "<td>\n",
       "<p>If <code>feval</code> and <code>early.stop.round</code> are set, then <code>maximize</code> must be set as well.\n",
       "<code>maximize=TRUE</code> means the larger the evaluation score the better.</p>\n",
       "</td></tr>\n",
       "<tr valign=\"top\"><td><code>save_period</code></td>\n",
       "<td>\n",
       "<p>save the model to the disk in every <code>save_period</code> rounds, 0 means no such action.</p>\n",
       "</td></tr>\n",
       "<tr valign=\"top\"><td><code>save_name</code></td>\n",
       "<td>\n",
       "<p>the name or path for periodically saved model file.</p>\n",
       "</td></tr>\n",
       "<tr valign=\"top\"><td><code>...</code></td>\n",
       "<td>\n",
       "<p>other parameters to pass to <code>params</code>.</p>\n",
       "</td></tr>\n",
       "</table>\n",
       "\n",
       "\n",
       "<h3>Details</h3>\n",
       "\n",
       "<p>This is the modeling function for Xgboost.\n",
       "</p>\n",
       "<p>Parallelization is automatically enabled if <code>OpenMP</code> is present.\n",
       "</p>\n",
       "<p>Number of threads can also be manually specified via <code>nthread</code> parameter.\n",
       "</p>\n",
       "\n",
       "\n",
       "<h3>Examples</h3>\n",
       "\n",
       "<pre>\n",
       "data(agaricus.train, package='xgboost')\n",
       "data(agaricus.test, package='xgboost')\n",
       "train &lt;- agaricus.train\n",
       "test &lt;- agaricus.test\n",
       "bst &lt;- xgboost(data = train$data, label = train$label, max.depth = 2, \n",
       "               eta = 1, nthread = 2, nround = 2, objective = \"binary:logistic\")\n",
       "pred &lt;- predict(bst, test$data)\n",
       "\n",
       "</pre>\n",
       "\n",
       "<hr /><div style=\"text-align: center;\">[Package <em>xgboost</em> version 0.4-3 ]</div>"
      ],
      "text/latex": [
       "\\inputencoding{utf8}\n",
       "\\HeaderA{xgboost}{eXtreme Gradient Boosting (Tree) library}{xgboost}\n",
       "%\n",
       "\\begin{Description}\\relax\n",
       "A simple interface for training xgboost model. Look at \\code{\\LinkA{xgb.train}{xgb.train}} function for a more advanced interface.\n",
       "\\end{Description}\n",
       "%\n",
       "\\begin{Usage}\n",
       "\\begin{verbatim}\n",
       "xgboost(data = NULL, label = NULL, missing = NA, weight = NULL,\n",
       "  params = list(), nrounds, verbose = 1, print.every.n = 1L,\n",
       "  early.stop.round = NULL, maximize = NULL, save_period = 0,\n",
       "  save_name = \"xgboost.model\", ...)\n",
       "\\end{verbatim}\n",
       "\\end{Usage}\n",
       "%\n",
       "\\begin{Arguments}\n",
       "\\begin{ldescription}\n",
       "\\item[\\code{data}] takes \\code{matrix}, \\code{dgCMatrix}, local data file or \n",
       "\\code{xgb.DMatrix}.\n",
       "\n",
       "\\item[\\code{label}] the response variable. User should not set this field,\n",
       "if data is local data file or  \\code{xgb.DMatrix}.\n",
       "\n",
       "\\item[\\code{missing}] Missing is only used when input is dense matrix, pick a float \n",
       "value that represents missing value. Sometimes a data use 0 or other extreme value to represents missing values.\n",
       "\n",
       "\\item[\\code{weight}] a vector indicating the weight for each row of the input.\n",
       "\n",
       "\\item[\\code{params}] the list of parameters.\n",
       "\n",
       "Commonly used ones are:\n",
       "\\begin{itemize}\n",
       "\n",
       "\\item \\code{objective} objective function, common ones are\n",
       "\\begin{itemize}\n",
       "\n",
       "\\item \\code{reg:linear} linear regression\n",
       "\\item \\code{binary:logistic} logistic regression for classification\n",
       "\n",
       "\\end{itemize}\n",
       "\n",
       "\\item \\code{eta} step size of each boosting step\n",
       "\\item \\code{max.depth} maximum depth of the tree\n",
       "\\item \\code{nthread} number of thread used in training, if not set, all threads are used\n",
       "\n",
       "\\end{itemize}\n",
       "\n",
       "\n",
       "Look at \\code{\\LinkA{xgb.train}{xgb.train}} for a more complete list of parameters or \\url{https://github.com/dmlc/xgboost/wiki/Parameters} for the full list.\n",
       "\n",
       "See also \\code{demo/} for walkthrough example in R.\n",
       "\n",
       "\\item[\\code{nrounds}] the max number of iterations\n",
       "\n",
       "\\item[\\code{verbose}] If 0, xgboost will stay silent. If 1, xgboost will print \n",
       "information of performance. If 2, xgboost will print information of both\n",
       "performance and construction progress information\n",
       "\n",
       "\\item[\\code{print.every.n}] Print every N progress messages when \\code{verbose>0}. Default is 1 which means all messages are printed.\n",
       "\n",
       "\\item[\\code{early.stop.round}] If \\code{NULL}, the early stopping function is not triggered. \n",
       "If set to an integer \\code{k}, training with a validation set will stop if the performance \n",
       "keeps getting worse consecutively for \\code{k} rounds.\n",
       "\n",
       "\\item[\\code{maximize}] If \\code{feval} and \\code{early.stop.round} are set, then \\code{maximize} must be set as well.\n",
       "\\code{maximize=TRUE} means the larger the evaluation score the better.\n",
       "\n",
       "\\item[\\code{save\\_period}] save the model to the disk in every \\code{save\\_period} rounds, 0 means no such action.\n",
       "\n",
       "\\item[\\code{save\\_name}] the name or path for periodically saved model file.\n",
       "\n",
       "\\item[\\code{...}] other parameters to pass to \\code{params}.\n",
       "\\end{ldescription}\n",
       "\\end{Arguments}\n",
       "%\n",
       "\\begin{Details}\\relax\n",
       "This is the modeling function for Xgboost.\n",
       "\n",
       "Parallelization is automatically enabled if \\code{OpenMP} is present.\n",
       "\n",
       "Number of threads can also be manually specified via \\code{nthread} parameter.\n",
       "\\end{Details}\n",
       "%\n",
       "\\begin{Examples}\n",
       "\\begin{ExampleCode}\n",
       "data(agaricus.train, package='xgboost')\n",
       "data(agaricus.test, package='xgboost')\n",
       "train <- agaricus.train\n",
       "test <- agaricus.test\n",
       "bst <- xgboost(data = train$data, label = train$label, max.depth = 2, \n",
       "               eta = 1, nthread = 2, nround = 2, objective = \"binary:logistic\")\n",
       "pred <- predict(bst, test$data)\n",
       "\n",
       "\\end{ExampleCode}\n",
       "\\end{Examples}"
      ],
      "text/plain": [
       "xgboost                package:xgboost                 R Documentation\n",
       "\n",
       "_\be_\bX_\bt_\br_\be_\bm_\be _\bG_\br_\ba_\bd_\bi_\be_\bn_\bt _\bB_\bo_\bo_\bs_\bt_\bi_\bn_\bg (_\bT_\br_\be_\be) _\bl_\bi_\bb_\br_\ba_\br_\by\n",
       "\n",
       "_\bD_\be_\bs_\bc_\br_\bi_\bp_\bt_\bi_\bo_\bn:\n",
       "\n",
       "     A simple interface for training xgboost model. Look at ‘xgb.train’\n",
       "     function for a more advanced interface.\n",
       "\n",
       "_\bU_\bs_\ba_\bg_\be:\n",
       "\n",
       "     xgboost(data = NULL, label = NULL, missing = NA, weight = NULL,\n",
       "       params = list(), nrounds, verbose = 1, print.every.n = 1L,\n",
       "       early.stop.round = NULL, maximize = NULL, save_period = 0,\n",
       "       save_name = \"xgboost.model\", ...)\n",
       "     \n",
       "_\bA_\br_\bg_\bu_\bm_\be_\bn_\bt_\bs:\n",
       "\n",
       "    data: takes ‘matrix’, ‘dgCMatrix’, local data file or\n",
       "          ‘xgb.DMatrix’.\n",
       "\n",
       "   label: the response variable. User should not set this field, if\n",
       "          data is local data file or ‘xgb.DMatrix’.\n",
       "\n",
       " missing: Missing is only used when input is dense matrix, pick a float\n",
       "          value that represents missing value. Sometimes a data use 0\n",
       "          or other extreme value to represents missing values.\n",
       "\n",
       "  weight: a vector indicating the weight for each row of the input.\n",
       "\n",
       "  params: the list of parameters.\n",
       "\n",
       "          Commonly used ones are:\n",
       "\n",
       "            • ‘objective’ objective function, common ones are\n",
       "\n",
       "                • ‘reg:linear’ linear regression\n",
       "\n",
       "                • ‘binary:logistic’ logistic regression for\n",
       "                  classification\n",
       "\n",
       "            • ‘eta’ step size of each boosting step\n",
       "\n",
       "            • ‘max.depth’ maximum depth of the tree\n",
       "\n",
       "            • ‘nthread’ number of thread used in training, if not set,\n",
       "              all threads are used\n",
       "\n",
       "          Look at ‘xgb.train’ for a more complete list of parameters or\n",
       "          <URL: https://github.com/dmlc/xgboost/wiki/Parameters> for\n",
       "          the full list.\n",
       "\n",
       "          See also ‘demo/’ for walkthrough example in R.\n",
       "\n",
       " nrounds: the max number of iterations\n",
       "\n",
       " verbose: If 0, xgboost will stay silent. If 1, xgboost will print\n",
       "          information of performance. If 2, xgboost will print\n",
       "          information of both performance and construction progress\n",
       "          information\n",
       "\n",
       "print.every.n: Print every N progress messages when ‘verbose>0’.\n",
       "          Default is 1 which means all messages are printed.\n",
       "\n",
       "early.stop.round: If ‘NULL’, the early stopping function is not\n",
       "          triggered.  If set to an integer ‘k’, training with a\n",
       "          validation set will stop if the performance keeps getting\n",
       "          worse consecutively for ‘k’ rounds.\n",
       "\n",
       "maximize: If ‘feval’ and ‘early.stop.round’ are set, then ‘maximize’\n",
       "          must be set as well. ‘maximize=TRUE’ means the larger the\n",
       "          evaluation score the better.\n",
       "\n",
       "save_period: save the model to the disk in every ‘save_period’ rounds,\n",
       "          0 means no such action.\n",
       "\n",
       "save_name: the name or path for periodically saved model file.\n",
       "\n",
       "     ...: other parameters to pass to ‘params’.\n",
       "\n",
       "_\bD_\be_\bt_\ba_\bi_\bl_\bs:\n",
       "\n",
       "     This is the modeling function for Xgboost.\n",
       "\n",
       "     Parallelization is automatically enabled if ‘OpenMP’ is present.\n",
       "\n",
       "     Number of threads can also be manually specified via ‘nthread’\n",
       "     parameter.\n",
       "\n",
       "_\bE_\bx_\ba_\bm_\bp_\bl_\be_\bs:\n",
       "\n",
       "     data(agaricus.train, package='xgboost')\n",
       "     data(agaricus.test, package='xgboost')\n",
       "     train <- agaricus.train\n",
       "     test <- agaricus.test\n",
       "     bst <- xgboost(data = train$data, label = train$label, max.depth = 2, \n",
       "                    eta = 1, nthread = 2, nround = 2, objective = \"binary:logistic\")\n",
       "     pred <- predict(bst, test$data)\n",
       "     "
      ]
     },
     "execution_count": 2,
     "metadata": {},
     "output_type": "execute_result"
    }
   ],
   "source": [
    "?xgboost"
   ]
  },
  {
   "cell_type": "code",
   "execution_count": 3,
   "metadata": {
    "collapsed": true
   },
   "outputs": [],
   "source": [
    "data(agaricus.train, package='xgboost')\n",
    "data(agaricus.test, package='xgboost')\n",
    "train <- agaricus.train\n",
    "test <- agaricus.test\n",
    "\n"
   ]
  },
  {
   "cell_type": "code",
   "execution_count": 24,
   "metadata": {
    "collapsed": false
   },
   "outputs": [
    {
     "name": "stdout",
     "output_type": "stream",
     "text": [
      "[0]\ttrain-error:0.046522+0.000788\ttest-error:0.046522+0.007094\n",
      "[1]\ttrain-error:0.022263+0.000666\ttest-error:0.022266+0.005989\n",
      "[2]\ttrain-error:0.007063+0.000269\ttest-error:0.007063+0.002423\n",
      "[3]\ttrain-error:0.015201+0.000560\ttest-error:0.015200+0.005037\n",
      "[4]\ttrain-error:0.007063+0.000269\ttest-error:0.007063+0.002423\n",
      "[5]\ttrain-error:0.001228+0.000108\ttest-error:0.001228+0.000970\n",
      "[6]\ttrain-error:0.001228+0.000108\ttest-error:0.001228+0.000970\n",
      "[7]\ttrain-error:0.001228+0.000108\ttest-error:0.001228+0.000970\n",
      "[8]\ttrain-error:0.000836+0.000582\ttest-error:0.001075+0.001036\n",
      "[9]\ttrain-error:0.000699+0.000604\ttest-error:0.001075+0.001036\n",
      "[10]\ttrain-error:0.000989+0.000532\ttest-error:0.000921+0.001073\n",
      "[11]\ttrain-error:0.000102+0.000324\ttest-error:0.000307+0.000970\n",
      "[12]\ttrain-error:0.000000+0.000000\ttest-error:0.000000+0.000000\n",
      "[13]\ttrain-error:0.000000+0.000000\ttest-error:0.000000+0.000000\n",
      "[14]\ttrain-error:0.000000+0.000000\ttest-error:0.000000+0.000000\n",
      "[15]\ttrain-error:0.000000+0.000000\ttest-error:0.000000+0.000000\n",
      "[16]\ttrain-error:0.000000+0.000000\ttest-error:0.000000+0.000000\n",
      "[17]\ttrain-error:0.000000+0.000000\ttest-error:0.000000+0.000000\n",
      "[18]\ttrain-error:0.000000+0.000000\ttest-error:0.000000+0.000000\n",
      "[19]\ttrain-error:0.000000+0.000000\ttest-error:0.000000+0.000000\n"
     ]
    },
    {
     "data": {
      "text/plain": [
       "   user  system elapsed \n",
       "  0.704   0.009   0.378 "
      ]
     },
     "execution_count": 24,
     "metadata": {},
     "output_type": "execute_result"
    }
   ],
   "source": [
    "system.time(bst <- xgb.cv(data = train$data, label = train$label, max.depth = 2, \n",
    "               eta = 1, nround = 20, nfold = 10, objective = \"binary:logistic\", nthread = 2))"
   ]
  },
  {
   "cell_type": "code",
   "execution_count": 14,
   "metadata": {
    "collapsed": true
   },
   "outputs": [],
   "source": [
    "library(ggplot2)\n",
    "data(diamonds)"
   ]
  },
  {
   "cell_type": "code",
   "execution_count": 15,
   "metadata": {
    "collapsed": false
   },
   "outputs": [
    {
     "data": {
      "text/html": [
       "<ol class=list-inline>\n",
       "\t<li>53940</li>\n",
       "\t<li>10</li>\n",
       "</ol>\n"
      ],
      "text/latex": [
       "\\begin{enumerate*}\n",
       "\\item 53940\n",
       "\\item 10\n",
       "\\end{enumerate*}\n"
      ],
      "text/markdown": [
       "1. 53940\n",
       "2. 10\n",
       "\n",
       "\n"
      ],
      "text/plain": [
       "[1] 53940    10"
      ]
     },
     "execution_count": 15,
     "metadata": {},
     "output_type": "execute_result"
    }
   ],
   "source": [
    "dim(diamonds)"
   ]
  },
  {
   "cell_type": "code",
   "execution_count": 16,
   "metadata": {
    "collapsed": false
   },
   "outputs": [
    {
     "data": {
      "text/html": [
       "<table>\n",
       "<thead><tr><th></th><th scope=col>carat</th><th scope=col>cut</th><th scope=col>color</th><th scope=col>clarity</th><th scope=col>depth</th><th scope=col>table</th><th scope=col>price</th><th scope=col>x</th><th scope=col>y</th><th scope=col>z</th></tr></thead>\n",
       "<tbody>\n",
       "\t<tr><th scope=row>1</th><td>0.23</td><td>Ideal</td><td>E</td><td>SI2</td><td>61.5</td><td>55</td><td>326</td><td>3.95</td><td>3.98</td><td>2.43</td></tr>\n",
       "\t<tr><th scope=row>2</th><td>0.21</td><td>Premium</td><td>E</td><td>SI1</td><td>59.8</td><td>61</td><td>326</td><td>3.89</td><td>3.84</td><td>2.31</td></tr>\n",
       "\t<tr><th scope=row>3</th><td>0.23</td><td>Good</td><td>E</td><td>VS1</td><td>56.9</td><td>65</td><td>327</td><td>4.05</td><td>4.07</td><td>2.31</td></tr>\n",
       "\t<tr><th scope=row>4</th><td>0.29</td><td>Premium</td><td>I</td><td>VS2</td><td>62.4</td><td>58</td><td>334</td><td>4.2</td><td>4.23</td><td>2.63</td></tr>\n",
       "\t<tr><th scope=row>5</th><td>0.31</td><td>Good</td><td>J</td><td>SI2</td><td>63.3</td><td>58</td><td>335</td><td>4.34</td><td>4.35</td><td>2.75</td></tr>\n",
       "\t<tr><th scope=row>6</th><td>0.24</td><td>Very Good</td><td>J</td><td>VVS2</td><td>62.8</td><td>57</td><td>336</td><td>3.94</td><td>3.96</td><td>2.48</td></tr>\n",
       "</tbody>\n",
       "</table>\n"
      ],
      "text/latex": [
       "\\begin{tabular}{r|llllllllll}\n",
       "  & carat & cut & color & clarity & depth & table & price & x & y & z\\\\\n",
       "\\hline\n",
       "\t1 & 0.23 & Ideal & E & SI2 & 61.5 & 55 & 326 & 3.95 & 3.98 & 2.43\\\\\n",
       "\t2 & 0.21 & Premium & E & SI1 & 59.8 & 61 & 326 & 3.89 & 3.84 & 2.31\\\\\n",
       "\t3 & 0.23 & Good & E & VS1 & 56.9 & 65 & 327 & 4.05 & 4.07 & 2.31\\\\\n",
       "\t4 & 0.29 & Premium & I & VS2 & 62.4 & 58 & 334 & 4.2 & 4.23 & 2.63\\\\\n",
       "\t5 & 0.31 & Good & J & SI2 & 63.3 & 58 & 335 & 4.34 & 4.35 & 2.75\\\\\n",
       "\t6 & 0.24 & Very Good & J & VVS2 & 62.8 & 57 & 336 & 3.94 & 3.96 & 2.48\\\\\n",
       "\\end{tabular}\n"
      ],
      "text/plain": [
       "  carat       cut color clarity depth table price    x    y    z\n",
       "1  0.23     Ideal     E     SI2  61.5    55   326 3.95 3.98 2.43\n",
       "2  0.21   Premium     E     SI1  59.8    61   326 3.89 3.84 2.31\n",
       "3  0.23      Good     E     VS1  56.9    65   327 4.05 4.07 2.31\n",
       "4  0.29   Premium     I     VS2  62.4    58   334 4.20 4.23 2.63\n",
       "5  0.31      Good     J     SI2  63.3    58   335 4.34 4.35 2.75\n",
       "6  0.24 Very Good     J    VVS2  62.8    57   336 3.94 3.96 2.48"
      ]
     },
     "execution_count": 16,
     "metadata": {},
     "output_type": "execute_result"
    }
   ],
   "source": [
    "head(diamonds)"
   ]
  },
  {
   "cell_type": "code",
   "execution_count": 30,
   "metadata": {
    "collapsed": false,
    "scrolled": true
   },
   "outputs": [
    {
     "data": {
      "text/plain": [
       "   user  system elapsed \n",
       " 10.657   0.245   3.430 "
      ]
     },
     "execution_count": 30,
     "metadata": {},
     "output_type": "execute_result"
    }
   ],
   "source": [
    "system.time(ranger(price~., data = diamonds, num.trees = 50))"
   ]
  },
  {
   "cell_type": "code",
   "execution_count": 51,
   "metadata": {
    "collapsed": false
   },
   "outputs": [
    {
     "data": {
      "text/plain": [
       "   user  system elapsed \n",
       "  0.105   0.013   0.119 "
      ]
     },
     "execution_count": 51,
     "metadata": {},
     "output_type": "execute_result"
    }
   ],
   "source": [
    "system.time(model <- lm(price~., data = diamonds))"
   ]
  },
  {
   "cell_type": "code",
   "execution_count": 52,
   "metadata": {
    "collapsed": false
   },
   "outputs": [
    {
     "data": {
      "text/plain": [
       "\n",
       "Call:\n",
       "lm(formula = price ~ ., data = diamonds)\n",
       "\n",
       "Residuals:\n",
       "     Min       1Q   Median       3Q      Max \n",
       "-21376.0   -592.4   -183.5    376.4  10694.2 \n",
       "\n",
       "Coefficients:\n",
       "             Estimate Std. Error  t value Pr(>|t|)    \n",
       "(Intercept)  5753.762    396.630   14.507  < 2e-16 ***\n",
       "carat       11256.978     48.628  231.494  < 2e-16 ***\n",
       "cut.L         584.457     22.478   26.001  < 2e-16 ***\n",
       "cut.Q        -301.908     17.994  -16.778  < 2e-16 ***\n",
       "cut.C         148.035     15.483    9.561  < 2e-16 ***\n",
       "cut^4         -20.794     12.377   -1.680  0.09294 .  \n",
       "color.L     -1952.160     17.342 -112.570  < 2e-16 ***\n",
       "color.Q      -672.054     15.777  -42.597  < 2e-16 ***\n",
       "color.C      -165.283     14.725  -11.225  < 2e-16 ***\n",
       "color^4        38.195     13.527    2.824  0.00475 ** \n",
       "color^5       -95.793     12.776   -7.498 6.59e-14 ***\n",
       "color^6       -48.466     11.614   -4.173 3.01e-05 ***\n",
       "clarity.L    4097.431     30.259  135.414  < 2e-16 ***\n",
       "clarity.Q   -1925.004     28.227  -68.197  < 2e-16 ***\n",
       "clarity.C     982.205     24.152   40.668  < 2e-16 ***\n",
       "clarity^4    -364.918     19.285  -18.922  < 2e-16 ***\n",
       "clarity^5     233.563     15.752   14.828  < 2e-16 ***\n",
       "clarity^6       6.883     13.715    0.502  0.61575    \n",
       "clarity^7      90.640     12.103    7.489 7.06e-14 ***\n",
       "depth         -63.806      4.535  -14.071  < 2e-16 ***\n",
       "table         -26.474      2.912   -9.092  < 2e-16 ***\n",
       "x           -1008.261     32.898  -30.648  < 2e-16 ***\n",
       "y               9.609     19.333    0.497  0.61918    \n",
       "z             -50.119     33.486   -1.497  0.13448    \n",
       "---\n",
       "Signif. codes:  0 ‘***’ 0.001 ‘**’ 0.01 ‘*’ 0.05 ‘.’ 0.1 ‘ ’ 1\n",
       "\n",
       "Residual standard error: 1130 on 53916 degrees of freedom\n",
       "Multiple R-squared:  0.9198,\tAdjusted R-squared:  0.9198 \n",
       "F-statistic: 2.688e+04 on 23 and 53916 DF,  p-value: < 2.2e-16\n"
      ]
     },
     "execution_count": 52,
     "metadata": {},
     "output_type": "execute_result"
    }
   ],
   "source": [
    "summary(model)"
   ]
  },
  {
   "cell_type": "code",
   "execution_count": null,
   "metadata": {
    "collapsed": true
   },
   "outputs": [],
   "source": []
  },
  {
   "cell_type": "code",
   "execution_count": null,
   "metadata": {
    "collapsed": true
   },
   "outputs": [],
   "source": []
  }
 ],
 "metadata": {
  "kernelspec": {
   "display_name": "R",
   "language": "R",
   "name": "ir"
  },
  "language_info": {
   "codemirror_mode": "r",
   "file_extension": ".r",
   "mimetype": "text/x-r-source",
   "name": "R",
   "pygments_lexer": "r",
   "version": "3.2.4"
  }
 },
 "nbformat": 4,
 "nbformat_minor": 0
}
