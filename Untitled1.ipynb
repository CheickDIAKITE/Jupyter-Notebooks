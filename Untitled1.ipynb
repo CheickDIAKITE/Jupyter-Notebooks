{
 "cells": [
  {
   "cell_type": "code",
   "execution_count": 3,
   "metadata": {
    "collapsed": false
   },
   "outputs": [
    {
     "data": {
      "text/plain": [
       "6"
      ]
     },
     "execution_count": 3,
     "metadata": {},
     "output_type": "execute_result"
    }
   ],
   "source": [
    "2+2+2"
   ]
  },
  {
   "cell_type": "code",
   "execution_count": 32,
   "metadata": {
    "collapsed": false
   },
   "outputs": [
    {
     "data": {
      "text/plain": [
       "<matplotlib.collections.PathCollection at 0x118215320>"
      ]
     },
     "execution_count": 32,
     "metadata": {},
     "output_type": "execute_result"
    },
    {
     "data": {
      "image/png": "[encoded data removed]",
      "text/plain": [
       "<matplotlib.figure.Figure at 0x10fd66e10>"
      ]
     },
     "metadata": {},
     "output_type": "display_data"
    }
   ],
   "source": [
    "import numpy as np\n",
    "import pandas as pd\n",
    "import matplotlib.pyplot as plt\n",
    "%matplotlib inline\n",
    "plt.scatter(np.arange(10), np.arange(10))"
   ]
  },
  {
   "cell_type": "code",
   "execution_count": 16,
   "metadata": {
    "collapsed": true
   },
   "outputs": [],
   "source": [
    "interests = [\n",
    "(0, \"Hadoop\"), (0, \"Big Data\"), (0, \"HBase\"), (0, \"Java\"),\n",
    "(0, \"Spark\"), (0, \"Storm\"), (0, \"Cassandra\"),\n",
    "(1, \"NoSQL\"), (1, \"MongoDB\"), (1, \"Cassandra\"), (1, \"HBase\"),\n",
    "(1, \"Postgres\"), (2, \"Python\"), (2, \"scikit-learn\"), (2, \"scipy\"),\n",
    "(2, \"numpy\"), (2, \"statsmodels\"), (2, \"pandas\"), (3, \"R\"), (3, \"Python\"),\n",
    "(3, \"statistics\"), (3, \"regression\"), (3, \"probability\"),\n",
    "(4, \"machine learning\"), (4, \"regression\"), (4, \"decision trees\"),\n",
    "(4, \"libsvm\"), (5, \"Python\"), (5, \"R\"), (5, \"Java\"), (5, \"C++\"),\n",
    "(5, \"Haskell\"), (5, \"programming languages\"), (6, \"statistics\"),\n",
    "(6, \"probability\"), (6, \"mathematics\"), (6, \"theory\"),\n",
    "(7, \"machine learning\"), (7, \"scikit-learn\"), (7, \"Mahout\"),\n",
    "(7, \"neural networks\"), (8, \"neural networks\"), (8, \"deep learning\"),\n",
    "(8, \"Big Data\"), (8, \"artificial intelligence\"), (9, \"Hadoop\"),\n",
    "(9, \"Java\"), (9, \"MapReduce\"), (9, \"Big Data\")\n",
    "]\n"
   ]
  },
  {
   "cell_type": "code",
   "execution_count": 25,
   "metadata": {
    "collapsed": true
   },
   "outputs": [],
   "source": [
    "from collections import defaultdict, Counter"
   ]
  },
  {
   "cell_type": "code",
   "execution_count": 19,
   "metadata": {
    "collapsed": true
   },
   "outputs": [],
   "source": [
    "dictz = defaultdict(int)"
   ]
  },
  {
   "cell_type": "code",
   "execution_count": 20,
   "metadata": {
    "collapsed": true
   },
   "outputs": [],
   "source": [
    "fields = [interest[1] for interest in interests]"
   ]
  },
  {
   "cell_type": "code",
   "execution_count": 23,
   "metadata": {
    "collapsed": false
   },
   "outputs": [],
   "source": [
    "for word in fields:\n",
    "    dictz[word] += 1"
   ]
  },
  {
   "cell_type": "code",
   "execution_count": 44,
   "metadata": {
    "collapsed": false
   },
   "outputs": [
    {
     "name": "stdout",
     "output_type": "stream",
     "text": [
      "CPU times: user 60 µs, sys: 1e+03 ns, total: 61 µs\n",
      "Wall time: 67 µs\n"
     ]
    },
    {
     "data": {
      "text/plain": [
       "Counter({'Big Data': 3,\n",
       "         'C++': 1,\n",
       "         'Cassandra': 2,\n",
       "         'HBase': 2,\n",
       "         'Hadoop': 2,\n",
       "         'Haskell': 1,\n",
       "         'Java': 3,\n",
       "         'Mahout': 1,\n",
       "         'MapReduce': 1,\n",
       "         'MongoDB': 1,\n",
       "         'NoSQL': 1,\n",
       "         'Postgres': 1,\n",
       "         'Python': 3,\n",
       "         'R': 2,\n",
       "         'Spark': 1,\n",
       "         'Storm': 1,\n",
       "         'artificial intelligence': 1,\n",
       "         'decision trees': 1,\n",
       "         'deep learning': 1,\n",
       "         'libsvm': 1,\n",
       "         'machine learning': 2,\n",
       "         'mathematics': 1,\n",
       "         'neural networks': 2,\n",
       "         'numpy': 1,\n",
       "         'pandas': 1,\n",
       "         'probability': 2,\n",
       "         'programming languages': 1,\n",
       "         'regression': 2,\n",
       "         'scikit-learn': 2,\n",
       "         'scipy': 1,\n",
       "         'statistics': 2,\n",
       "         'statsmodels': 1,\n",
       "         'theory': 1})"
      ]
     },
     "execution_count": 44,
     "metadata": {},
     "output_type": "execute_result"
    }
   ],
   "source": [
    "%time Counter(fields)"
   ]
  },
  {
   "cell_type": "code",
   "execution_count": 39,
   "metadata": {
    "collapsed": false
   },
   "outputs": [],
   "source": [
    "df = pd.DataFrame({\"fields\":fields})"
   ]
  },
  {
   "cell_type": "code",
   "execution_count": 43,
   "metadata": {
    "collapsed": false
   },
   "outputs": [
    {
     "name": "stdout",
     "output_type": "stream",
     "text": [
      "CPU times: user 883 µs, sys: 260 µs, total: 1.14 ms\n",
      "Wall time: 923 µs\n"
     ]
    },
    {
     "data": {
      "text/plain": [
       "Python                     3\n",
       "Java                       3\n",
       "Big Data                   3\n",
       "neural networks            2\n",
       "HBase                      2\n",
       "Cassandra                  2\n",
       "machine learning           2\n",
       "R                          2\n",
       "Hadoop                     2\n",
       "statistics                 2\n",
       "scikit-learn               2\n",
       "regression                 2\n",
       "probability                2\n",
       "programming languages      1\n",
       "pandas                     1\n",
       "theory                     1\n",
       "artificial intelligence    1\n",
       "NoSQL                      1\n",
       "Postgres                   1\n",
       "Storm                      1\n",
       "deep learning              1\n",
       "Spark                      1\n",
       "decision trees             1\n",
       "numpy                      1\n",
       "scipy                      1\n",
       "C++                        1\n",
       "MongoDB                    1\n",
       "MapReduce                  1\n",
       "Mahout                     1\n",
       "mathematics                1\n",
       "statsmodels                1\n",
       "libsvm                     1\n",
       "Haskell                    1\n",
       "Name: fields, dtype: int64"
      ]
     },
     "execution_count": 43,
     "metadata": {},
     "output_type": "execute_result"
    }
   ],
   "source": [
    "%time df[\"fields\"].value_counts()"
   ]
  },
  {
   "cell_type": "code",
   "execution_count": 51,
   "metadata": {
    "collapsed": false
   },
   "outputs": [],
   "source": [
    "x = (\"3\" + \n",
    "     \"4\")"
   ]
  },
  {
   "cell_type": "code",
   "execution_count": 52,
   "metadata": {
    "collapsed": false
   },
   "outputs": [
    {
     "data": {
      "text/plain": [
       "'34'"
      ]
     },
     "execution_count": 52,
     "metadata": {},
     "output_type": "execute_result"
    }
   ],
   "source": [
    "x"
   ]
  },
  {
   "cell_type": "code",
   "execution_count": null,
   "metadata": {
    "collapsed": true
   },
   "outputs": [],
   "source": []
  }
 ],
 "metadata": {
  "kernelspec": {
   "display_name": "Python 3",
   "language": "python",
   "name": "python3"
  },
  "language_info": {
   "codemirror_mode": {
    "name": "ipython",
    "version": 3
   },
   "file_extension": ".py",
   "mimetype": "text/x-python",
   "name": "python",
   "nbconvert_exporter": "python",
   "pygments_lexer": "ipython3",
   "version": "3.4.4"
  }
 },
 "nbformat": 4,
 "nbformat_minor": 0
}
