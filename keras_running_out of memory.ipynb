﻿{
 "metadata": {
  "kernelspec": {
   "display_name": "Python 3",
   "language": "python",
   "name": "python3"
  },
  "language_info": {
   "codemirror_mode": {
    "name": "ipython",
    "version": 3
   },
   "file_extension": ".py",
   "mimetype": "text/x-python",
   "name": "python",
   "nbconvert_exporter": "python",
   "pygments_lexer": "ipython3",
   "version": "3.5.2"
  }
 },
 "nbformat": 4,
 "nbformat_minor": 0,
 "cells": [
  {
   "cell_type": "code",
   "source": "import numpy as np # linear algebra\nimport pandas as pd # data processing, CSV file I/O (e.g. pd.read_csv)\n\nfrom sklearn.decomposition import PCA\nfrom sklearn.model_selection import train_test_split\n\nfrom keras.layers import Dense, BatchNormalization, Dropout, PReLU\nfrom keras.models import Sequential\nfrom keras.optimizers import adam\n\nimport scipy\nimport gc",
   "execution_count": 1,
   "outputs": [
    {
     "name": "stderr",
     "output_type": "stream",
     "text": "Using TensorFlow backend.\n"
    }
   ],
   "metadata": {}
  },
  {
   "cell_type": "code",
   "source": "train  = pd.read_csv(\"../input/train.csv\")\ntest = pd.read_csv(\"../input/test.csv\")",
   "execution_count": 2,
   "outputs": [],
   "metadata": {}
  },
  {
   "cell_type": "code",
   "source": "X = train.loc[:,\"cat1\":\"cont14\"]\nX_test = test.loc[:, \"cat1\":\"cont14\"]\ny = train[\"loss\"]\nnrows = X.shape[0]",
   "execution_count": 3,
   "outputs": [],
   "metadata": {}
  },
  {
   "cell_type": "code",
   "source": "del [train, test]\ngc.collect()",
   "execution_count": 4,
   "outputs": [
    {
     "data": {
      "text/plain": "47"
     },
     "execution_count": 4,
     "metadata": {},
     "output_type": "execute_result"
    }
   ],
   "metadata": {}
  },
  {
   "cell_type": "code",
   "source": "X_data = pd.concat((X, X_test), 0)",
   "execution_count": 5,
   "outputs": [],
   "metadata": {}
  },
  {
   "cell_type": "code",
   "source": "X_data.shape",
   "execution_count": 6,
   "outputs": [
    {
     "data": {
      "text/plain": "(313864, 130)"
     },
     "execution_count": 6,
     "metadata": {},
     "output_type": "execute_result"
    }
   ],
   "metadata": {}
  },
  {
   "cell_type": "code",
   "source": "del [X, X_test]",
   "execution_count": 7,
   "outputs": [],
   "metadata": {}
  },
  {
   "cell_type": "code",
   "source": "X_data = pd.get_dummies(X_data)",
   "execution_count": 8,
   "outputs": [],
   "metadata": {}
  },
  {
   "cell_type": "code",
   "source": "X_data = X_data.to_sparse()",
   "execution_count": 9,
   "outputs": [],
   "metadata": {}
  },
  {
   "cell_type": "code",
   "source": "#X_data = scipy.sparse.csr_matrix(X_data.values)",
   "execution_count": null,
   "outputs": [],
   "metadata": {}
  },
  {
   "cell_type": "code",
   "source": "pca = PCA(n_components=150)\nX_data = pca.fit_transform(X_data)",
   "execution_count": null,
   "outputs": [],
   "metadata": {}
  },
  {
   "cell_type": "code",
   "source": "X = X_data[:nrows]\nX_test = X_data[nrows:]",
   "execution_count": null,
   "outputs": [],
   "metadata": {}
  },
  {
   "cell_type": "code",
   "source": "pca = PCA(n_components=150)\nX = pca.fit_transform(X_data[:nrows])\nX_test = pca.transform(X_data[nrows:])",
   "execution_count": null,
   "outputs": [],
   "metadata": {}
  },
  {
   "cell_type": "code",
   "source": "X_tr, X_val, y_tr, y_val = train_test_split(X, y, random_state = 4)",
   "execution_count": null,
   "outputs": [],
   "metadata": {}
  },
  {
   "cell_type": "code",
   "source": "model = Sequential()\n\nmodel.add(Dense(256, input_dim = X_tr.shape[1]))\nmodel.add(PReLU())\nmodel.add(BatchNormalization())\n\nmodel.add(Dense(256))\nmodel.add(PReLU())\nmodel.add(BatchNormalization())\n\n\nmodel.add(Dense(1))\n\nmodel.compile(loss=\"mae\", optimizer=\"adam\")",
   "execution_count": null,
   "outputs": [],
   "metadata": {}
  },
  {
   "cell_type": "markdown",
   "source": "Let's take a look at the model:",
   "metadata": {}
  },
  {
   "cell_type": "code",
   "source": "model.summary()",
   "execution_count": null,
   "outputs": [],
   "metadata": {}
  },
  {
   "cell_type": "code",
   "source": "hist = model.fit(X_tr, y_tr, validation_data=(X_val, y_val),\n                 batch_size=128, verbose=0, nb_epoch=5)",
   "execution_count": null,
   "outputs": [],
   "metadata": {}
  },
  {
   "cell_type": "code",
   "source": "loss = pd.DataFrame(hist.history)\nloss.plot()",
   "execution_count": null,
   "outputs": [],
   "metadata": {}
  },
  {
   "cell_type": "code",
   "source": "loss[\"val_loss\"].min()",
   "execution_count": null,
   "outputs": [],
   "metadata": {}
  },
  {
   "cell_type": "code",
   "source": "loss[\"val_loss\"]",
   "execution_count": null,
   "outputs": [],
   "metadata": {}
  },
  {
   "cell_type": "code",
   "source": null,
   "execution_count": null,
   "outputs": [],
   "metadata": {}
  }
 ]
}