{
 "metadata": {
  "name": "",
  "signature": "sha256:935e95373c55099b6fc77dd3e6c34a8d49abe941275c91fd1f1b758765d7a717"
 },
 "nbformat": 3,
 "nbformat_minor": 0,
 "worksheets": [
  {
   "cells": [
    {
     "cell_type": "code",
     "collapsed": false,
     "input": [
      "import pandas as pd\n",
      "import patsy\n",
      "import numpy as np\n",
      "import matplotlib.pyplot as plt\n",
      "from sklearn import linear_model\n",
      "from sklearn.svm import SVC\n",
      "from sklearn.cross_validation import cross_val_score, KFold\n",
      "from scipy.stats import sem\n",
      "import warnings \n",
      "warnings.filterwarnings(\"ignore\")\n",
      "import seaborn as sns\n",
      "from sklearn.cross_validation import cross_val_score, KFold\n",
      "from sklearn.pipeline import Pipeline\n",
      "from sklearn.preprocessing import *\n",
      "from scipy.stats import sem\n",
      "import math\n",
      "from sklearn.linear_model import *\n",
      "train = pd.read_csv(\"/home/moi/Downloads/crime/train.csv\")"
     ],
     "language": "python",
     "metadata": {},
     "outputs": [],
     "prompt_number": 1
    },
    {
     "cell_type": "code",
     "collapsed": false,
     "input": [
      "#Taking a random sample of 10,000, and then fixing the index column\n",
      "train=train.sample(10000,random_state=13)\n",
      "train.index=range(10000)"
     ],
     "language": "python",
     "metadata": {},
     "outputs": [],
     "prompt_number": 2
    },
    {
     "cell_type": "code",
     "collapsed": false,
     "input": [
      "#Get \"hour\", \"year\" and \"month\"\n",
      "tmh=pd.DataFrame({'Hour':train['Dates'].apply(lambda x: (str.split(str.split(x,':')[0],' ')[1])).astype(int)})\n",
      "tmy=pd.DataFrame({'Year':train['Dates'].apply(lambda x: str.split(x, '-')[0]).astype(int)})\n",
      "tmm=pd.DataFrame({'Month':train['Dates'].apply(lambda x: str.split(str.split(x, '-')[1],'-')[0]).astype(int)})\n",
      "\n",
      "#Create new dataframe with features: X, Y, Hour, Year and Month\n",
      "thething=pd.concat([tmh,tmy,tmm, train[['X','Y']]],axis=1)\n",
      "\n",
      "#mean_score function\n",
      "def mean_score(scores):\n",
      "    return (\"Mean score: {0:.3f} (+/-{1:.3f})\").format(np.mean(scores),sem(scores))\n",
      "\n",
      "#Check scores via cross-validation\n",
      "clf=Pipeline([('scaler', StandardScaler()), ('logistic', LogisticRegression(multi_class='ovr'))])\n",
      "cv=KFold(len(thething), 5, shuffle=True, random_state=33)\n",
      "scores=cross_val_score(clf,thething,train[['Category']],cv=cv)\n",
      "print('Scores:', scores)\n",
      "print(mean_score(scores))"
     ],
     "language": "python",
     "metadata": {},
     "outputs": [
      {
       "output_type": "stream",
       "stream": "stdout",
       "text": [
        "Scores: [ 0.206   0.2235  0.204   0.207   0.2065]\n",
        "Mean score: 0.209 (+/-0.004)\n"
       ]
      }
     ],
     "prompt_number": 3
    },
    {
     "cell_type": "code",
     "collapsed": false,
     "input": [
      "#Adding X and Y coordinates\n",
      "thething=pd.concat([tmh,tmy,tmm, train[['X','Y']]],axis=1)\n",
      "scores=cross_val_score(clf,thething,train[['Category']],cv=cv)\n",
      "print('Scores:', scores)\n",
      "print(mean_score(scores))"
     ],
     "language": "python",
     "metadata": {},
     "outputs": [
      {
       "output_type": "stream",
       "stream": "stdout",
       "text": [
        "Scores: [ 0.206   0.2235  0.204   0.207   0.2065]\n",
        "Mean score: 0.209 (+/-0.004)\n"
       ]
      }
     ],
     "prompt_number": 4
    },
    {
     "cell_type": "code",
     "collapsed": false,
     "input": [
      "#Adding more features using one hot encoding\n",
      "\n",
      "#PdDistrict\n",
      "TTT=patsy.dmatrix('PdDistrict', data=train) \n",
      "\n",
      "#Day of the week\n",
      "TTD=patsy.dmatrix('DayOfWeek', data=train) \n",
      "\n",
      "#Combining into one dataframe\n",
      "thething=pd.concat([tmh,tmy,tmm, train[['X','Y']], pd.DataFrame(TTT),  pd.DataFrame(TTD)],axis=1)\n",
      "\n",
      "#checking scores\n",
      "scores=cross_val_score(clf,thething,train[['Category']],cv=cv)\n",
      "print('Scores:', scores)\n",
      "print(mean_score(scores))"
     ],
     "language": "python",
     "metadata": {},
     "outputs": [
      {
       "output_type": "stream",
       "stream": "stdout",
       "text": [
        "Scores: [ 0.218   0.2325  0.2295  0.234   0.2285]\n",
        "Mean score: 0.229 (+/-0.003)\n"
       ]
      }
     ],
     "prompt_number": 5
    },
    {
     "cell_type": "code",
     "collapsed": false,
     "input": [
      "#Trying a PCA\n",
      "\n",
      "#Pre-process the dataframe\n",
      "from sklearn import preprocessing\n",
      "scaler=preprocessing.StandardScaler().fit(thething)\n",
      "X=scaler.transform(thething)\n",
      "\n",
      "#Fit into PCA\n",
      "from sklearn.decomposition import PCA\n",
      "estimator=PCA()\n",
      "X_pca=estimator.fit_transform(X)  \n",
      "\n",
      "#checking scores for the first 8 features of the PCA\n",
      "scores=cross_val_score(clf,pd.DataFrame(X_pca)[[0,1,2,3,4,5,6,7,8]],train[['Category']],cv=cv)\n",
      "print('Scores:', scores)\n",
      "print(mean_score(scores))"
     ],
     "language": "python",
     "metadata": {},
     "outputs": [
      {
       "output_type": "stream",
       "stream": "stdout",
       "text": [
        "Scores: [ 0.206   0.1985  0.211   0.2055  0.2035]\n",
        "Mean score: 0.205 (+/-0.002)\n"
       ]
      }
     ],
     "prompt_number": 6
    },
    {
     "cell_type": "raw",
     "metadata": {},
     "source": [
      "\n"
     ]
    },
    {
     "cell_type": "code",
     "collapsed": false,
     "input": [],
     "language": "python",
     "metadata": {},
     "outputs": [],
     "prompt_number": 28
    },
    {
     "cell_type": "code",
     "collapsed": false,
     "input": [],
     "language": "python",
     "metadata": {},
     "outputs": []
    }
   ],
   "metadata": {}
  }
 ]
}